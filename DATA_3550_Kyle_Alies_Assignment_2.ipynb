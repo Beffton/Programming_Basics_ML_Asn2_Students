{
 "cells": [
  {
   "cell_type": "code",
   "execution_count": 3,
   "metadata": {},
   "outputs": [
    {
     "data": {
      "text/plain": [
       "<bound method NDFrame.head of          Name      Type  Value_0  Value_1  Value_2  Value_3  Value_4  \\\n",
       "0      List_0   stdList       92     50.0     65.0     86.0     75.0   \n",
       "1      List_1   stdList       76     93.0     55.0     71.0     42.0   \n",
       "2      List_2  meanList       78     39.0      2.0     51.0     88.0   \n",
       "3      List_3   stdList        3     62.0     10.0     46.0     39.0   \n",
       "4      List_4  meanList       97     51.0      5.0     72.0     84.0   \n",
       "..        ...       ...      ...      ...      ...      ...      ...   \n",
       "995  List_995  meanList       48     66.0     69.0     85.0     70.0   \n",
       "996  List_996  meanList       42     20.0     83.0     47.0     79.0   \n",
       "997  List_997   sumList       31     69.0     61.0     46.0     44.0   \n",
       "998  List_998  meanList        4     28.0     71.0     89.0     69.0   \n",
       "999  List_999   stdList        1     21.0     74.0     52.0     94.0   \n",
       "\n",
       "       Threshold  Value_5  Value_6  ...  Value_40  Value_41  Value_42  \\\n",
       "0      30.196058      NaN      NaN  ...       NaN       NaN       NaN   \n",
       "1      37.832992     96.0     50.0  ...       NaN       NaN       NaN   \n",
       "2      42.901582     41.0     10.0  ...      59.0      35.0      93.0   \n",
       "3   -1428.622569     10.0      4.0  ...       NaN       NaN       NaN   \n",
       "4      13.753965     70.0     68.0  ...      77.0      75.0      35.0   \n",
       "..           ...      ...      ...  ...       ...       ...       ...   \n",
       "995    30.814381     40.0     63.0  ...       NaN       NaN       NaN   \n",
       "996   419.808496      NaN      NaN  ...       NaN       NaN       NaN   \n",
       "997   127.572102     59.0     31.0  ...       NaN       NaN       NaN   \n",
       "998    11.399774     15.0     59.0  ...       NaN       NaN       NaN   \n",
       "999   591.364609     57.0     88.0  ...       NaN       NaN       NaN   \n",
       "\n",
       "     Value_43  Value_44  Value_45  Value_46  Value_47  Value_48  Value_49  \n",
       "0         NaN       NaN       NaN       NaN       NaN       NaN       NaN  \n",
       "1         NaN       NaN       NaN       NaN       NaN       NaN       NaN  \n",
       "2        44.0      60.0       NaN       NaN       NaN       NaN       NaN  \n",
       "3         NaN       NaN       NaN       NaN       NaN       NaN       NaN  \n",
       "4        93.0       NaN       NaN       NaN       NaN       NaN       NaN  \n",
       "..        ...       ...       ...       ...       ...       ...       ...  \n",
       "995       NaN       NaN       NaN       NaN       NaN       NaN       NaN  \n",
       "996       NaN       NaN       NaN       NaN       NaN       NaN       NaN  \n",
       "997       NaN       NaN       NaN       NaN       NaN       NaN       NaN  \n",
       "998       NaN       NaN       NaN       NaN       NaN       NaN       NaN  \n",
       "999       NaN       NaN       NaN       NaN       NaN       NaN       NaN  \n",
       "\n",
       "[1000 rows x 53 columns]>"
      ]
     },
     "execution_count": 3,
     "metadata": {},
     "output_type": "execute_result"
    }
   ],
   "source": [
    "#importing all the libraries and files needed for the project\n",
    "\n",
    "import pandas as pd\n",
    "import numpy as np\n",
    "df = pd.read_csv(\"inputs.csv\")\n"
   ]
  },
  {
   "cell_type": "code",
   "execution_count": null,
   "metadata": {},
   "outputs": [],
   "source": [
    "class lists:\n",
    "    def __init__(self, meanList, sumlist, stdlist):\n",
    "        self.meanList = meanList\n",
    "        self.sumlist = sumlist\n",
    "        self.stdlist = stdlist\n",
    "        "
   ]
  }
 ],
 "metadata": {
  "kernelspec": {
   "display_name": "Python 3",
   "language": "python",
   "name": "python3"
  },
  "language_info": {
   "codemirror_mode": {
    "name": "ipython",
    "version": 3
   },
   "file_extension": ".py",
   "mimetype": "text/x-python",
   "name": "python",
   "nbconvert_exporter": "python",
   "pygments_lexer": "ipython3",
   "version": "3.10.4"
  }
 },
 "nbformat": 4,
 "nbformat_minor": 2
}
